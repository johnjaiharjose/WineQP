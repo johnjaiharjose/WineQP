{
 "cells": [
  {
   "cell_type": "code",
   "execution_count": null,
   "metadata": {},
   "outputs": [],
   "source": [
    "import pandas as pd\n",
    "import numpy as np\n",
    "from sklearn import linear_model\n",
    "import pickle\n",
    "\n",
    "#to load dataset \n",
    "data = pd.read_csv('winequality-red.csv', delimiter=\";\")\n",
    "#labels is the column with quality score dependent on other columns.\n",
    "label = data['quality']\n",
    "#features are the other columns that are independent.\n",
    "features = data.drop('quality', axis=1)\n",
    "\n",
    "#defining linear regression\n",
    "regression = linear_model.LinearRegression()\n",
    "\n",
    "#adding training data of our wine.csv to it.\n",
    "regression.fit(features, label)\n",
    "\n",
    "#using our trained model to predict a  wine quality\n",
    "#each number represents a feature like pH, acidity, etc.\n",
    "#these numbers are inputs and we will get the output quality of wine.\n",
    "#try increasing the alcohol content value to 10... we get better wine quality :D lol. \n",
    "\n",
    "print (regression.predict([[7.5,0.96,0.02,1.844,0.075,16,102,0.9975,4.51,0.47,10]]).tolist())\n",
    "\n",
    "#serializing our model to a file called model_test.pkl\n",
    "pickle.dump(regression, open(\"model_test.pkl\",\"wb\"))\n",
    "\n"
   ]
  }
 ],
 "metadata": {
  "kernelspec": {
   "display_name": "Python 3",
   "language": "python",
   "name": "python3"
  },
  "language_info": {
   "codemirror_mode": {
    "name": "ipython",
    "version": 3
   },
   "file_extension": ".py",
   "mimetype": "text/x-python",
   "name": "python",
   "nbconvert_exporter": "python",
   "pygments_lexer": "ipython3",
   "version": "3.5.2"
  }
 },
 "nbformat": 4,
 "nbformat_minor": 2
}
