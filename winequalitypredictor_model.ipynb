{
 "cells": [
  {
   "cell_type": "code",
   "execution_count": 1,
   "metadata": {},
   "outputs": [
    {
     "name": "stdout",
     "output_type": "stream",
     "text": [
      "[4.225699409691824]\n"
     ]
    }
   ],
   "source": [
    "import pandas as pd\n",
    "import numpy as np\n",
    "from sklearn import linear_model\n",
    "import pickle\n",
    "\n",
    "model = pickle.load(open(\"model_test.pkl\",\"rb\"))\n",
    "\n",
    "\n",
    "#input the wine features on which the quality needs to be predicted.\n",
    "#change these values to get another result\n",
    "\n",
    "feature_array = [7.5,0.96,0.02,1.844,0.075,16,102,0.9975,4.51,0.47,10]\n",
    "    \n",
    "    \n",
    "#our model rates the wine based on the input array\n",
    "prediction = model.predict([feature_array]).tolist()\n",
    "    \n",
    "#preparing a response object and storing the model's predictions\n",
    "response = {}\n",
    "response['predictions'] = prediction\n",
    "#output \n",
    "print(response['predictions'])\n",
    "\n"
   ]
  },
  {
   "cell_type": "code",
   "execution_count": null,
   "metadata": {},
   "outputs": [],
   "source": []
  }
 ],
 "metadata": {
  "kernelspec": {
   "display_name": "Python 3",
   "language": "python",
   "name": "python3"
  },
  "language_info": {
   "codemirror_mode": {
    "name": "ipython",
    "version": 3
   },
   "file_extension": ".py",
   "mimetype": "text/x-python",
   "name": "python",
   "nbconvert_exporter": "python",
   "pygments_lexer": "ipython3",
   "version": "3.5.2"
  }
 },
 "nbformat": 4,
 "nbformat_minor": 2
}
